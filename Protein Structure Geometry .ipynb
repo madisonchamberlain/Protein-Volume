{
 "cells": [
  {
   "cell_type": "markdown",
   "metadata": {},
   "source": [
    "# Protein Structure Geometry "
   ]
  },
  {
   "cell_type": "markdown",
   "metadata": {},
   "source": [
    "## Set-up"
   ]
  },
  {
   "cell_type": "markdown",
   "metadata": {},
   "source": [
    "These functions are necessairy to calculate the volume and surface area of a protein structure defined by a union of spheres using monte carlo integration.  Each function will be be individually explained within the code.  Please run the following code before running any of the other code chunks so that your computer can access the following functions. "
   ]
  },
  {
   "cell_type": "code",
   "execution_count": 3,
   "metadata": {},
   "outputs": [],
   "source": [
    "import math\n",
    "import random\n",
    "import numpy as np\n",
    "from timeit import default_timer as timer\n",
    "import matplotlib.pyplot as plt\n",
    "\n",
    "\n",
    "### The first function called is the read in function.  This function reads data from a txt \n",
    "### file containing columns indicating an x, y, and z coordinate as well as a radius for each\n",
    "### sphere which is indicated by the number of rows.  This function converts that data into \n",
    "### a list of lists.  Each internal list holds the coordinates and radius of an individual\n",
    "### sphere \n",
    "def read_in_data(txt_file):\n",
    "    file = open(txt_file, \"r\")\n",
    "    filelines = file.readlines()\n",
    "    all_x_y_z_r = []\n",
    "    for line in filelines:\n",
    "        x_y_z_r = []\n",
    "        for column_number in range(0,4):\n",
    "            x_y_z_r.append(line.split()[column_number])\n",
    "        all_x_y_z_r.append(x_y_z_r)\n",
    "    length = len(all_x_y_z_r)\n",
    "    file.close()\n",
    "    return (all_x_y_z_r)\n",
    "\n",
    "### Inorder to determine the volume of the protein structure, we must test whether randomly \n",
    "### generated points are within or outside of the protein structure. We must generate a \n",
    "### rectangle that encompases the entire protein structure to do so. This function generates \n",
    "###the dimensions of the cube by finding the maximum and minimum coordinates for the protein \n",
    "###structure in every direction. It then subtracts one from each minimum coordinate and adds \n",
    "###one to each maximum coordinate so that we can ensure the entire protein is encompased by \n",
    "###the rectangle. The function returns a list of coordinates that make up the rectangle.\n",
    "def get_cube_dimensions(list_of_center_points_and_radii):\n",
    "    list_of_x_values = []\n",
    "    list_of_y_values = []\n",
    "    list_of_z_values = []\n",
    "    for x_y_z_r_value in list_of_center_points_and_radii:\n",
    "        low_x_value = float(x_y_z_r_value[0]) - float(x_y_z_r_value[3])\n",
    "        list_of_x_values.append(low_x_value)\n",
    "        high_x_value = float(x_y_z_r_value[0]) + float(x_y_z_r_value[3])\n",
    "        list_of_x_values.append(high_x_value)\n",
    "        low_y_value = float(x_y_z_r_value[1]) - float(x_y_z_r_value[3])\n",
    "        list_of_y_values.append(low_y_value)\n",
    "        high_y_value = float(x_y_z_r_value[1]) + float(x_y_z_r_value[3])\n",
    "        list_of_y_values.append(high_y_value)\n",
    "        low_z_value = float(x_y_z_r_value[2]) - float(x_y_z_r_value[3])\n",
    "        list_of_z_values.append(low_z_value)\n",
    "        high_z_value = float(x_y_z_r_value[2]) + float(x_y_z_r_value[3])\n",
    "        list_of_z_values.append(high_z_value)\n",
    "    cube_x_min = min(list_of_x_values) - 1\n",
    "    cube_x_max = max(list_of_x_values) + 1\n",
    "    cube_y_min = min(list_of_y_values) - 1\n",
    "    cube_y_max = max(list_of_y_values) + 1\n",
    "    cube_z_min = min(list_of_z_values) - 1\n",
    "    cube_z_max = max(list_of_z_values) + 1\n",
    "    return [cube_x_min, cube_x_max, cube_y_min, cube_y_max, cube_z_min, cube_z_max]\n",
    "\n",
    "### After generating a cube that encompases all of the spheres, we must randomly choose points\n",
    "### from within that cube to test.  This is done by randomly choosing an x, y, and z vaule\n",
    "### from within the range of the cube.  This process is repeater \"number of points\" times \n",
    "### inorder to generate that number of random coordinates\n",
    "def get_list_of_random_coodinates(x_min, x_max, y_min, y_max, z_min, z_max, number_of_points):\n",
    "    list_of_rand_points = []\n",
    "    for i in range(number_of_points):\n",
    "        x_value = random.uniform(x_min, x_max)\n",
    "        y_value = random.uniform(y_min, y_max)\n",
    "        z_value = random.uniform(z_min, z_max)\n",
    "        list_of_rand_points.append((x_value, y_value, z_value ))\n",
    "    return list_of_rand_points\n",
    "\n",
    "### The next function we must use is a function that finds the distance between two points.\n",
    "### Distance is usually found by adding the square of the distance between each dimension, \n",
    "### x, y, and z for the two points and then taking the square root.  No square root is taken \n",
    "### to save time, and since we are only comparing distances; we are not actually interested \n",
    "### in the true value of a distance.\n",
    "def get_distance_to_center(center, point):\n",
    "    x_distance = float(center[0]) - float(point[0])\n",
    "    y_distance = float(center[1]) - float(point[1])\n",
    "    z_distance = float(center[2]) - float(point[2])\n",
    "    return ((x_distance * x_distance) + (y_distance * y_distance) + (z_distance * z_distance))\n",
    "\n",
    "\n",
    "### We must generate the volume of the cube to determine the volume of the protein.  We do \n",
    "### this by finding its length, width and height based on the range of x, y and z values\n",
    "def get_volume_cube(cube_coordinates):\n",
    "    width = cube_coordinates[1] - cube_coordinates[0]\n",
    "    length = cube_coordinates[3]- cube_coordinates[2]\n",
    "    height = cube_coordinates[5] - cube_coordinates[4]\n",
    "    volume = length*width*height\n",
    "    return volume\n",
    "\n",
    "### We must find the surface area of each sphere in the protein to calculate the surface area\n",
    "### of the protein.  This is done by calculating 4πr² for the radius of a given sphere.\n",
    "def get_surface_area(x_y_z_r):\n",
    "    return 4 * (float((x_y_z_r[3])) ** 2) * math.pi\n",
    "\n",
    "### In order to find the standard deviation of a value we must generate the average of the \n",
    "### value.  This is simply done by adding all items in a list and dividing that submation\n",
    "### by the number of items in a list\n",
    "def average(list):\n",
    "    total = 0\n",
    "    for item in list:\n",
    "        total = total + item\n",
    "    average = total/len(list)\n",
    "    return average\n",
    "\n",
    "### This standard error calcualting function will be useful for graphing the time complexity \n",
    "### of the volume function.  We calculate standard error by finding the squared difference \n",
    "### between each item in a list and the list average, and adding all of these values together\n",
    "### then we must divide this number by the amount of items in the list and take the square\n",
    "### root of this number to get standard deviation\n",
    "def standard_error(list, list_average):\n",
    "    N = len(list)\n",
    "    mean = list_average\n",
    "    sigma = 0\n",
    "    for item in list:\n",
    "        difference = item - mean\n",
    "        dif_sqrd = difference ** 2\n",
    "        sigma = sigma + dif_sqrd\n",
    "    standard_dev = math.sqrt((sigma/N))\n",
    "    return standard_dev\n",
    "\n",
    "### Since monte carlo integration is not exact, it must return a range for the volume of a\n",
    "### protein rather than an exact volume.  The range will be determined by returning the exact\n",
    "### volume we calcualted plus and minus the standard deviation.  The standard deviation will\n",
    "### be calculated by taking the ratio of random coordinates that fell within the protein \n",
    "### structure out of the total random coordinates that we tested.  We will take this value \n",
    "### subtract the value of the ratio squared.  We will divide this by the number of random\n",
    "### points that were generated and then take the square root of that number.  Finally, we will\n",
    "### multiply this number by the volume of the cube containing the protein structure to get the\n",
    "### standard deviation\n",
    "def get_SD_of_volume(ratio_in_to_out, volume_of_cube, N):\n",
    "    f_squared = ratio_in_to_out * ratio_in_to_out\n",
    "    numerator = ratio_in_to_out - f_squared\n",
    "    inside_sqrrt = math.sqrt(numerator / N)\n",
    "    standard_dev = volume_of_cube * inside_sqrrt\n",
    "    return standard_dev\n"
   ]
  },
  {
   "cell_type": "markdown",
   "metadata": {},
   "source": [
    "## Find The Volume of a Protein With Monte Carlo Integration "
   ]
  },
  {
   "cell_type": "markdown",
   "metadata": {},
   "source": [
    "This code chunk calls the basic \"set-up\" functions above to calculate the volume of a union of squares using monte carlo integration.   The main function doing the volume calculation is the \"monte_carlo_many_spheres\" function.  First this function generates the coordinates of a cube containing all of the spheres, and then generates a list of random coordinates from within the cube.  Next it converts all of the radius values to the radius squared, so that we can compare the radius squared with the distance of the random points to the center of the circles cubed.  This eliminates the need for using a costly square root function.  Next we get into the actual calculation.  We do this by taking each of the randomly generated coordinates, and checking to see if they are in any of the spheres.  When we find that the random point lays within one of the spheres, we add one to the count of points that have been within the protein structure and then move onto the nect random coordinate.  We do not need to continue to check if the random point lays in any of the other spheres because this is simply redundant.  Next we generate a ratio of points that were in the protein to total random points generated.  To get the volume of the protein structure we multiply this ratio by the volume of the cube that contains the structure.  Finally, to generate a range rather than just one value for the protein, we calculate the standard deviation of the volume we calculated and we return the volume plus or minus the standard deviation.  The final function simply calls the necessary functions to get input and return output to the user.  "
   ]
  },
  {
   "cell_type": "code",
   "execution_count": 4,
   "metadata": {},
   "outputs": [
    {
     "name": "stdout",
     "output_type": "stream",
     "text": [
      "Enter the name of a txt file which contains a center point and radius for each sphere in the protein structure you are looking at (ex. volume.txt): volume.txt\n",
      "\n",
      "Enter the number of points you would like to test (for a relatively accurate answer, enter a number close to the number of spheres in your structure): 1000\n",
      "\n",
      "Using 1000 points, the volume of this union of balls is estimated to lay between 31964.49 and 37281.85 Å³\n"
     ]
    }
   ],
   "source": [
    "### Explained in markdown chunk \n",
    "def monte_carlo_many_spheres(list_of_center_points_and_radii, number_of_points):\n",
    "    cube_coordinates = get_cube_dimensions(list_of_center_points_and_radii)\n",
    "    list_of_random_coodinates = get_list_of_random_coodinates(cube_coordinates[0], cube_coordinates[1], cube_coordinates[2], cube_coordinates[3], cube_coordinates[4], cube_coordinates[5],  number_of_points)\n",
    "    for center_radius in list_of_center_points_and_radii:\n",
    "        center_radius[3] = float(center_radius[3])*float(center_radius[3])\n",
    "    points_within_circle = 0\n",
    "    for coordinate in list_of_random_coodinates:\n",
    "        for x_y_z_r in list_of_center_points_and_radii:\n",
    "            circle_center = (float(x_y_z_r[0]), float(x_y_z_r[1]), float(x_y_z_r[2]))\n",
    "            distance_to_center = get_distance_to_center(circle_center, coordinate)\n",
    "            circle_radius = float(x_y_z_r[3])\n",
    "            if distance_to_center <= circle_radius:\n",
    "                points_within_circle += 1\n",
    "                break\n",
    "    ratio_in_to_out = points_within_circle/number_of_points  ### This is the \"F\" value\n",
    "    volume_of_cube = get_volume_cube(cube_coordinates)\n",
    "    SD_of_volume = get_SD_of_volume(ratio_in_to_out, volume_of_cube, number_of_points)\n",
    "    volume_of_protein_structure = ratio_in_to_out*volume_of_cube\n",
    "    min_volume = round((volume_of_protein_structure - SD_of_volume), 2)\n",
    "    max_volume = round((volume_of_protein_structure + SD_of_volume), 2)\n",
    "    return (min_volume, max_volume)\n",
    "\n",
    "### This function gets input from the user.  It gets the txt file containing the information \n",
    "### about the spheres involved in the protein structure as well as the amount of points the \n",
    "### user wants to test for monte carlo integration.  It calculates the volume by calling the \n",
    "### monte_carlo_many_spheres function and prints the results to the user.  \n",
    "def get_volume_spheres_monte_carlo():\n",
    "    txt_file = input(\"Enter the name of a txt file which contains a center point and radius for each sphere in the protein structure you are looking at (ex. volume.txt): \")\n",
    "    number_of_points = int(input(\"\\nEnter the number of points you would like to use to calculate the volume of your protein structure: \"))\n",
    "    list_of_center_points_and_radii = read_in_data(txt_file)\n",
    "    protein_volume_monte_carlo = monte_carlo_many_spheres(list_of_center_points_and_radii, number_of_points)\n",
    "    print(\"\\nUsing\", number_of_points, \"points, the volume of this union of balls is estimated to lay between\", protein_volume_monte_carlo[0], \"and\", protein_volume_monte_carlo[1], \"Å³\")\n",
    "\n",
    "get_volume_spheres_monte_carlo()\n"
   ]
  },
  {
   "cell_type": "markdown",
   "metadata": {},
   "source": [
    "## Find the Surface Area of a Protein Structure with Monte Carlo Integration"
   ]
  },
  {
   "cell_type": "markdown",
   "metadata": {},
   "source": [
    "Maybe Zach can do this part since he gets it more"
   ]
  },
  {
   "cell_type": "code",
   "execution_count": 9,
   "metadata": {},
   "outputs": [
    {
     "name": "stdout",
     "output_type": "stream",
     "text": [
      "Enter the name of a txt file which contains a center point and radius for each sphere in the protein structure you are looking at (ex. volume.txt): volume.txt\n",
      "\n",
      "Input the number of points per sphere to you would like to use to calculate the surface area of the protein: 10\n",
      "\n",
      "Using 10 points per sphere, the surface area of the protein was calculated to be approximately 36230.09 Å²\n"
     ]
    }
   ],
   "source": [
    "def list_of_points_on_sphere(x_y_z_r, n):\n",
    "    list_of_rand_points = []\n",
    "    x = float(x_y_z_r[0])\n",
    "    y = float(x_y_z_r[1])\n",
    "    z = float(x_y_z_r[2])\n",
    "    r = float(x_y_z_r[3])\n",
    "    for i in range(n):\n",
    "        theta = random.uniform(0, 2 * math.pi)\n",
    "        phi = random.uniform(0, math.pi)\n",
    "        x_value = x + (r * (math.cos(theta)) * (math.sin(phi)))\n",
    "        y_value = y + (r * (math.sin(theta)) * (math.sin(phi)))\n",
    "        z_value = z + (r * (math.cos(phi)))\n",
    "        list_of_rand_points.append([x_value, y_value, z_value])\n",
    "    return list_of_rand_points\n",
    "\n",
    "\n",
    "def generate_surface_area(list_of_center_points_and_radii, N):\n",
    "    sum_of_sphere_surface_areas = 0\n",
    "    number_of_spheres = len(list_of_center_points_and_radii)\n",
    "    for i in range(number_of_spheres):\n",
    "        exposed_points = 0\n",
    "        sphere_i_x_y_z_r = list_of_center_points_and_radii[i]\n",
    "        SA_sphere_i = get_surface_area(sphere_i_x_y_z_r)\n",
    "        rand_points_on_sphere_i = list_of_points_on_sphere(sphere_i_x_y_z_r, N)\n",
    "        for point_on_sphere_i in rand_points_on_sphere_i:\n",
    "            for j in (list(range(i)) + list(range(i + 1, number_of_spheres))):\n",
    "                sphere_j_x_y_z_r = list_of_center_points_and_radii[j]\n",
    "                j_center = (float(sphere_j_x_y_z_r[0]), float(sphere_j_x_y_z_r[1]), float(sphere_j_x_y_z_r[2]))\n",
    "                square_distance_to_center = get_distance_to_center(j_center, point_on_sphere_i)\n",
    "                if square_distance_to_center < (float(sphere_j_x_y_z_r[3]) ** 2):\n",
    "                    true_if_exposed = 0\n",
    "                    break\n",
    "                else:\n",
    "                    true_if_exposed = 1\n",
    "            exposed_points += true_if_exposed\n",
    "        sum_of_sphere_surface_areas += SA_sphere_i * exposed_points / N\n",
    "    return sum_of_sphere_surface_areas\n",
    "\n",
    "def surface_area_protein():\n",
    "    txt_file = input(\"Enter the name of a txt file which contains a center point and radius for each sphere in the protein structure you are looking at (ex. volume.txt): \")\n",
    "    number_of_points_surface_area = int(input(\"\\nInput the number of points per sphere to you would like to use to calculate the surface area of the protein: \"))\n",
    "    list_of_center_points_and_radii = read_in_data(txt_file)\n",
    "    surface_area_of_protein = round((generate_surface_area(list_of_center_points_and_radii, number_of_points_surface_area)), 2)\n",
    "    print(\"\\nUsing\", number_of_points_surface_area, \"points per sphere, the surface area of the protein was calculated to be approximately\", surface_area_of_protein, \"Å²\")\n",
    "\n",
    "\n",
    "surface_area_protein()"
   ]
  },
  {
   "cell_type": "markdown",
   "metadata": {},
   "source": [
    "## Build a Graph to See How Volume Changes With Different N Values"
   ]
  },
  {
   "cell_type": "markdown",
   "metadata": {},
   "source": [
    "In order to examen how the accuracy of our volume calculation increases with more points used in our monte carlo integration, we must graph volume given N values.  "
   ]
  },
  {
   "cell_type": "code",
   "execution_count": 40,
   "metadata": {},
   "outputs": [
    {
     "name": "stdout",
     "output_type": "stream",
     "text": [
      "Enter the name of a txt file which contains a center point and radius for each sphere in the protein structure you are looking at (ex. volume.txt): volume.txt\n",
      "\n",
      "Enter the amount of maximum N value you want to test: 2000\n",
      "\n",
      "working... this may take a while\n"
     ]
    },
    {
     "data": {
      "image/png": "[encoded data removed]",
      "text/plain": [
       "<Figure size 432x288 with 1 Axes>"
      ]
     },
     "metadata": {
      "needs_background": "light"
     },
     "output_type": "display_data"
    }
   ],
   "source": [
    "### This function works the same as the monte_carlo_many_spheres function above, but rather\n",
    "### than returning the range for the calculation of the volume, it returns the volume and \n",
    "### the standard deviation of the volume.  It does this because we need the volume and the \n",
    "### standard deviation to be accessable seporately for graphing purposes.  \n",
    "def get_volume_for_one_N(list_of_center_points_and_radii, number_of_points):\n",
    "    cube_coordinates = get_cube_dimensions(list_of_center_points_and_radii)\n",
    "    list_of_random_coodinates = get_list_of_random_coodinates(cube_coordinates[0], cube_coordinates[1], cube_coordinates[2], cube_coordinates[3], cube_coordinates[4], cube_coordinates[5],  number_of_points)\n",
    "    for center_radius in list_of_center_points_and_radii:\n",
    "        center_radius[3] = float(center_radius[3])*float(center_radius[3])\n",
    "    points_within_circle = 0\n",
    "    for coordinate in list_of_random_coodinates:\n",
    "        for x_y_z_r in list_of_center_points_and_radii:\n",
    "            circle_center = (float(x_y_z_r[0]), float(x_y_z_r[1]), float(x_y_z_r[2]))\n",
    "            distance_to_center = get_distance_to_center(circle_center, coordinate)\n",
    "            circle_radius = float(x_y_z_r[3])\n",
    "            if distance_to_center <= circle_radius:\n",
    "                points_within_circle += 1\n",
    "                break\n",
    "    ratio_in_to_out = points_within_circle/number_of_points  ### This is the \"F\" value\n",
    "    volume_of_cube = get_volume_cube(cube_coordinates)\n",
    "    SD_of_volume = get_SD_of_volume(ratio_in_to_out, volume_of_cube, number_of_points)\n",
    "    volume_of_protein_structure = ratio_in_to_out*volume_of_cube\n",
    "    return (volume_of_protein_structure, SD_of_volume)\n",
    "\n",
    "### This function runs the monte_carlo_many_spheres function for every N value from 100 to \n",
    "### the max N value the user wishes to see on the graph in intervals of 100.  For each N, \n",
    "### it records the calculated volume and the standard deviation of the volume and links these\n",
    "### values with the corresponding N value they came from by adding all of these items into \n",
    "### a list.  That list is added to a list containing a list for each N value.  This large list \n",
    "### of lists is returned. \n",
    "def get_list_of_Ns_Volumes_and_SE(txt_file, max_N):\n",
    "    list_of_center_points_and_radii = read_in_data(txt_file)\n",
    "    x_y_z = []\n",
    "    for N in range(100, max_N, 100):  ##### change \"step\" to higher number for more efficiency\n",
    "        volume_and_SE = get_volume_for_one_N(list_of_center_points_and_radii, N)\n",
    "        volume = round(float(volume_and_SE[0]), 2)\n",
    "        SE = round(float(volume_and_SE[1]), 2)\n",
    "        x_y_z_value = [N, volume, SE]\n",
    "        x_y_z.append(x_y_z_value)\n",
    "    return(x_y_z)\n",
    "\n",
    "### This function makes a generic error bar plot by taking in a list of X values, a list of\n",
    "### Y values, and a list of Y error values.  It shows the user the graph that corresponds to \n",
    "### the way volume output changes given different N values\n",
    "def make_N_vs_value_plot(x_list, y_list, y_error_list):\n",
    "    plt.errorbar(x_list, y_list, yerr=y_error_list, fmt = 'o')\n",
    "    plt.axhline(y=35490.34, color='r', linestyle='-')\n",
    "    plt.xlabel(\"Values of N\")\n",
    "    plt.ylabel(\"Volume of The Union of Multiple Spheres\")\n",
    "    plt.title(\"Values of the Volume of a Protein Structure Given Varying Values of N \\n\")\n",
    "    plt.show()\n",
    "\n",
    "### This is the main function for graphing volumes given different values of N.  It generates \n",
    "### a list of Xs, made of the N values.  It also generates a list of Ys, the calculated volumes \n",
    "### and a list of errors determined by the volume standard deviations.  It calls the graph \n",
    "### functio so the corresponding graph will be shown.\n",
    "def volume_and_N_graph():\n",
    "    txt_file = input(\"Enter the name of a txt file which contains a center point and radius for each sphere in the protein structure you are looking at (ex. volume.txt): \")\n",
    "    max_N = int(input(\"\\nEnter the amount of maximum N value you want see on your graph: \"))\n",
    "    print(\"\\nworking... this may take a while\")\n",
    "    list_Ns_Volumes_and_SE = get_list_of_Ns_Volumes_and_SE(txt_file, max_N)\n",
    "    x_list = [x[0] for x in list_Ns_Volumes_and_SE]\n",
    "    y_list = [x[1] for x in list_Ns_Volumes_and_SE]\n",
    "    y_error_list = [x[2] for x in list_Ns_Volumes_and_SE]\n",
    "    make_N_vs_value_plot(x_list, y_list, y_error_list)\n",
    "    \n",
    "volume_and_N_graph()"
   ]
  },
  {
   "cell_type": "markdown",
   "metadata": {},
   "source": [
    "## Build a Graph to See How The Time it Takes to Calculate Volume Changes with Different N Values"
   ]
  },
  {
   "cell_type": "markdown",
   "metadata": {},
   "source": [
    "In order to examinen the time complexity of our algorithm, we need to graph how long it takes to calculate the volume of the union of given spheres given different values of N.  The \"function_to_be_timed\" function is the same as the function above that we have implamented, but renamed for clairity.  Next we must create a list that contains the N values and the corresponding time it took for the \"function_to_be_timed\" function to run given that value of N.  We must create a function that can generate a scatterplot so that we can examine the data visually.  Finally we must use the \"time_and_N_graph\" to call all of the functions.  This will give us the graph we will need to understand the time complexity of the function that calculates the the volume of a protein with monte carlo integration."
   ]
  },
  {
   "cell_type": "code",
   "execution_count": 36,
   "metadata": {
    "scrolled": false
   },
   "outputs": [
    {
     "name": "stdout",
     "output_type": "stream",
     "text": [
      "Enter the name of a txt file which contains a center point and radius for each sphere in the protein structure you are looking at (ex. volume.txt): volume.txt\n",
      "\n",
      "Enter the amount of maximum N value you want to test: 2000\n",
      "\n",
      "working... this may take a while\n"
     ]
    },
    {
     "data": {
      "image/png": "[encoded data removed]",
      "text/plain": [
       "<Figure size 432x288 with 1 Axes>"
      ]
     },
     "metadata": {
      "needs_background": "light"
     },
     "output_type": "display_data"
    }
   ],
   "source": [
    "### This function works the same as the monte_carlo_many_spheres function and the \n",
    "### get_volume_for_one_N function but is retitled for clairity\n",
    "def function_to_be_timed(list_of_center_points_and_radii, number_of_points):\n",
    "    cube_coordinates = get_cube_dimensions(list_of_center_points_and_radii)\n",
    "    list_of_random_coodinates = get_list_of_random_coodinates(cube_coordinates[0], cube_coordinates[1], cube_coordinates[2], cube_coordinates[3], cube_coordinates[4], cube_coordinates[5],  number_of_points)\n",
    "    for center_radius in list_of_center_points_and_radii:\n",
    "        center_radius[3] = float(center_radius[3])*float(center_radius[3])\n",
    "    points_within_circle = 0\n",
    "    for coordinate in list_of_random_coodinates:\n",
    "        for x_y_z_r in list_of_center_points_and_radii:\n",
    "            circle_center = (float(x_y_z_r[0]), float(x_y_z_r[1]), float(x_y_z_r[2]))\n",
    "            distance_to_center = get_distance_to_center(circle_center, coordinate)\n",
    "            circle_radius = float(x_y_z_r[3])\n",
    "            if distance_to_center <= circle_radius:\n",
    "                points_within_circle += 1\n",
    "                break\n",
    "    ratio_in_to_out = points_within_circle/number_of_points  ### This is the \"F\" value\n",
    "    volume_of_cube = get_volume_cube(cube_coordinates)\n",
    "    SD_of_volume = get_SD_of_volume(ratio_in_to_out, volume_of_cube, number_of_points)\n",
    "    volume_of_protein_structure = ratio_in_to_out*volume_of_cube\n",
    "    return (volume_of_protein_structure, SD_of_volume)\n",
    "\n",
    "### This function records the time in seconds it takes to calculate the volume given an N \n",
    "### value.  It works by running the monte_carlo_many_spheres function for every value of N \n",
    "### from one to the maximum N value entered by the user in intervals of 500.  It runs each of\n",
    "### the N values 10 times so that it can calculate an average time with a standard deviation. \n",
    "### It starts a timer, runs the function that is being timed, ends the timer and then records\n",
    "### the time.  For each N it then calculates the average and standard deviation of the time \n",
    "### and then generates a list of the N value, the average time and the standard deviation of\n",
    "### time.  It adds this list to a list of with the same values for other Ns and returns this \n",
    "### list of lists.\n",
    "def get_list_Times_goven_Ns(txt_file, max_N):\n",
    "    list_of_center_points_and_radii = read_in_data(txt_file)\n",
    "    Ns_and_times = []\n",
    "    for N in range(1, max_N, 500):  ### the \"500\" can be changed if you whish to not step by values of 500\n",
    "        times = []\n",
    "        for i in range(0,10):   ### the \"10\" can be how ever many times you want to repeat the process to determine standard deviation \n",
    "            start = timer()\n",
    "            function_to_be_timed(list_of_center_points_and_radii, N)\n",
    "            end = timer()\n",
    "            time = round(end - start, 2)\n",
    "            times.append(time)\n",
    "        average_time = average(times)\n",
    "        SE_time = standard_error(times, average_time)\n",
    "        N_and_time = [N, average_time, SE_time]\n",
    "        Ns_and_times.append(N_and_time)\n",
    "    return(Ns_and_times)\n",
    "\n",
    "### This function generates a standard graph with dots for the average value and error bars\n",
    "### which correspond to the standard deviations.\n",
    "def make_graph_with_error_bars(x_list, y_list, y_error_list):\n",
    "    plt.errorbar(x_list, y_list, yerr=y_error_list, fmt = 'o')\n",
    "    plt.xlabel(\"Values of N\")\n",
    "    plt.ylabel(\"Time (seconds)\")\n",
    "    plt.title(\"Time it Takes to Calculate Volume Given Different N Values\")\n",
    "    plt.show()\n",
    "\n",
    "### This is the main function that takes necessary input from the user and shows the graph\n",
    "### of how times change given different N values.  It takes in a maximum N value and the file\n",
    "### the user is working with, runs the get_list_Times_goven_Ns function, and then turns those \n",
    "### results into a graph.\n",
    "def time_and_N_graph():\n",
    "    txt_file = input(\"Enter the name of a txt file which contains a center point and radius for each sphere in the protein structure you are looking at (ex. volume.txt): \")\n",
    "    max_N = int(input(\"\\nEnter the amount of maximum N value you want to see on your graph: \"))\n",
    "    print(\"\\nworking... this may take a while\")\n",
    "    list_Ns_TimeAs_and_TimeSEs = get_list_Times_goven_Ns(txt_file, max_N)\n",
    "    x_list = [x[0] for x in list_Ns_TimeAs_and_TimeSEs]\n",
    "    y_list = [x[1] for x in list_Ns_TimeAs_and_TimeSEs]\n",
    "    y_error_list = [x[2] for x in list_Ns_TimeAs_and_TimeSEs]\n",
    "    make_graph_with_error_bars(x_list, y_list, y_error_list)\n",
    "\n",
    "\n",
    "time_and_N_graph()"
   ]
  }
 ],
 "metadata": {
  "kernelspec": {
   "display_name": "Python 3",
   "language": "python",
   "name": "python3"
  },
  "language_info": {
   "codemirror_mode": {
    "name": "ipython",
    "version": 3
   },
   "file_extension": ".py",
   "mimetype": "text/x-python",
   "name": "python",
   "nbconvert_exporter": "python",
   "pygments_lexer": "ipython3",
   "version": "3.7.4"
  }
 },
 "nbformat": 4,
 "nbformat_minor": 2
}
